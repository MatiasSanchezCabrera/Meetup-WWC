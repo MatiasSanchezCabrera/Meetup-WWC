{
 "cells": [
  {
   "cell_type": "code",
   "execution_count": null,
   "metadata": {},
   "outputs": [],
   "source": [
    "import pandas as pd"
   ]
  },
  {
   "cell_type": "code",
   "execution_count": null,
   "metadata": {},
   "outputs": [],
   "source": [
    "dataset = pd.read_csv('http://www.datalized.cl/cornershop')"
   ]
  },
  {
   "cell_type": "code",
   "execution_count": null,
   "metadata": {
    "scrolled": true
   },
   "outputs": [],
   "source": [
    "dataset"
   ]
  },
  {
   "cell_type": "code",
   "execution_count": null,
   "metadata": {},
   "outputs": [],
   "source": [
    "print \"Observaciones {}\".format(len(dataset))\n",
    "print \"Tiendas únicas {}\".format(len(dataset['store'].unique()))\n",
    "print dataset['total_minutes'].describe()"
   ]
  },
  {
   "cell_type": "code",
   "execution_count": null,
   "metadata": {},
   "outputs": [],
   "source": [
    "dataset.columns"
   ]
  },
  {
   "cell_type": "code",
   "execution_count": null,
   "metadata": {},
   "outputs": [],
   "source": [
    "X = dataset[['day_of_week', u'store', u'on_demand',\n",
    "       u'products_by_units', u'products_by_kgs', u'shopper_picking_speed',\n",
    "       u'shopper_found_rate', u'distance']]\n",
    "y = dataset['total_minutes']"
   ]
  },
  {
   "cell_type": "code",
   "execution_count": null,
   "metadata": {},
   "outputs": [],
   "source": [
    "from sklearn import preprocessing\n",
    "import sklearn_pandas"
   ]
  },
  {
   "cell_type": "code",
   "execution_count": null,
   "metadata": {},
   "outputs": [],
   "source": [
    "mapper = sklearn_pandas.DataFrameMapper([\n",
    "    ('day_of_week', preprocessing.LabelBinarizer()),\n",
    "    ('store', preprocessing.LabelBinarizer()),\n",
    "    ('on_demand', preprocessing.LabelEncoder()),\n",
    "    (['products_by_units', u'products_by_kgs', u'shopper_picking_speed',\n",
    "       u'shopper_found_rate'], preprocessing.StandardScaler())\n",
    "    ])\n",
    "\n",
    "X = mapper.fit_transform(X)"
   ]
  },
  {
   "cell_type": "code",
   "execution_count": null,
   "metadata": {},
   "outputs": [],
   "source": [
    "from sklearn import model_selection\n",
    "X_train, X_test, y_train, y_test = model_selection.train_test_split(X, y, train_size=0.3)"
   ]
  },
  {
   "cell_type": "code",
   "execution_count": null,
   "metadata": {},
   "outputs": [],
   "source": [
    "from sklearn import tree\n",
    "from sklearn import svm\n",
    "from sklearn import neural_network\n",
    "from sklearn import linear_model\n",
    "from sklearn import metrics\n",
    "import numpy as np"
   ]
  },
  {
   "cell_type": "code",
   "execution_count": null,
   "metadata": {},
   "outputs": [],
   "source": [
    "def train_evaluate(model, X_train, X_test, y_train, y_test):\n",
    "    model.fit(X_train, y_train)\n",
    "    pred = model.predict(X_test)\n",
    "    rmse = np.sqrt(metrics.mean_squared_error(y_test, pred))\n",
    "    print \"RMSE: {:.2f} for {}\".format(rmse, model)"
   ]
  },
  {
   "cell_type": "code",
   "execution_count": null,
   "metadata": {},
   "outputs": [],
   "source": [
    "models_to_train = [tree.DecisionTreeRegressor(),\n",
    "                   svm.SVR(), \n",
    "                   neural_network.MLPRegressor()]\n",
    "for model in models_to_train:\n",
    "    train_evaluate(model, X_train, X_test, y_train, y_test)"
   ]
  }
 ],
 "metadata": {
  "kernelspec": {
   "display_name": "Python 2",
   "language": "python",
   "name": "python2"
  },
  "language_info": {
   "codemirror_mode": {
    "name": "ipython",
    "version": 2
   },
   "file_extension": ".py",
   "mimetype": "text/x-python",
   "name": "python",
   "nbconvert_exporter": "python",
   "pygments_lexer": "ipython2",
   "version": "2.7.15"
  }
 },
 "nbformat": 4,
 "nbformat_minor": 2
}
